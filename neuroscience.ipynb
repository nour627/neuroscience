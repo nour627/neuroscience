{
 "cells": [
  {
   "cell_type": "code",
   "execution_count": 1,
   "id": "1b3a3a6c-aac8-4968-b788-055aad25e1cd",
   "metadata": {},
   "outputs": [
    {
     "name": "stdout",
     "output_type": "stream",
     "text": [
      "Input: 1.0\n",
      "Output: 0.8070638688437708\n",
      "Input: 0.5\n",
      "Output: 0.497086450759947\n",
      "Input: -1.0\n",
      "Output: 0.634597206066186\n"
     ]
    }
   ],
   "source": [
    "import random\n",
    "import math\n",
    "\n",
    "def net(x):\n",
    "    w = [random.uniform(-0.5, 0.5) for _ in range(4)]\n",
    "    b = [0.5, 0.7]\n",
    "    h = [math.tanh(x * w[0] + b[0]), math.tanh(x * w[1] + b[0])]\n",
    "    return math.tanh(h[0] * w[2] + h[1] * w[3] + b[1])\n",
    "\n",
    "inp = [1.0, 0.5, -1.0]\n",
    "for i in inp:\n",
    "    out = net(i)\n",
    "    print(f\"Input: {i}\")\n",
    "    print(f\"Output: {out}\")"
   ]
  },
  {
   "cell_type": "code",
   "execution_count": null,
   "id": "20b5d165-dad4-4f3e-b788-4eb9fd200925",
   "metadata": {},
   "outputs": [],
   "source": []
  }
 ],
 "metadata": {
  "kernelspec": {
   "display_name": "Python 3 (ipykernel)",
   "language": "python",
   "name": "python3"
  },
  "language_info": {
   "codemirror_mode": {
    "name": "ipython",
    "version": 3
   },
   "file_extension": ".py",
   "mimetype": "text/x-python",
   "name": "python",
   "nbconvert_exporter": "python",
   "pygments_lexer": "ipython3",
   "version": "3.12.7"
  }
 },
 "nbformat": 4,
 "nbformat_minor": 5
}
